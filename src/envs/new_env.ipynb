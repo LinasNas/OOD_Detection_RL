{
 "cells": [
  {
   "cell_type": "markdown",
   "id": "cd132c43-6215-4021-825c-7419b1dfed2e",
   "metadata": {},
   "source": [
    "# Creating a new env"
   ]
  },
  {
   "cell_type": "code",
   "execution_count": 3,
   "id": "37076104-e570-4974-a94d-d3493bac7205",
   "metadata": {},
   "outputs": [],
   "source": [
    "from statsmodels.tsa.arima_process import ArmaProcess\n",
    "import numpy as np \n",
    "\n",
    "def normalized_moving_average_process(coeffs, T):\n",
    "    \"\"\"\n",
    "    https://en.wikipedia.org/wiki/Moving-average_model\n",
    "    Do not confuse with moving average!\n",
    "    :param coeffs: number of coeffs determines correlation cut-off\n",
    "    :param T: length of timeseries\n",
    "    :return:\n",
    "    \"\"\"\n",
    "    ar1 = np.array([1])  # we must include the zero-lag coefficient of 1\n",
    "    ma1 = np.array([1]+list(coeffs))\n",
    "    MA_object1 = ArmaProcess(ar1, ma1)\n",
    "    norm = (ma1**2).sum()**0.5  # ensure variance is the same as for\n",
    "    return MA_object1.generate_sample(nsample=T) / norm"
   ]
  },
  {
   "cell_type": "code",
   "execution_count": 11,
   "id": "ac8169b3-3e5e-4660-bf4e-4f07ca76ef1e",
   "metadata": {},
   "outputs": [
    {
     "data": {
      "text/plain": [
       "(1, 200)"
      ]
     },
     "execution_count": 11,
     "metadata": {},
     "output_type": "execute_result"
    }
   ],
   "source": [
    "# generate the noise variates for the whole episode in advance\n",
    "#reset\n",
    "T = 200\n",
    "obs_dim = 1\n",
    "\n",
    "train_mod_corr_noise=(0.0,0.0)\n",
    "test_mod_corr_noise=(0.0,0.0)\n",
    "train_noise_strength = 1\n",
    "test_noise_strength = 1\n",
    "\n",
    "train_state_noise_vec = np.stack([normalized_moving_average_process(train_mod_corr_noise, T) for _ in range(obs_dim)])\n",
    "test_state_noise_vec = np.stack([normalized_moving_average_process(test_mod_corr_noise, T) for _ in range(obs_dim)])\n",
    "train_state_noise_vec.shape\n",
    "test_state_noise_vec.shape"
   ]
  },
  {
   "cell_type": "code",
   "execution_count": 17,
   "id": "2c0d490d-23a8-41a6-bac1-2fad2b0c7ac5",
   "metadata": {},
   "outputs": [
    {
     "data": {
      "text/plain": [
       "(-1.3320793524077335,)"
      ]
     },
     "execution_count": 17,
     "metadata": {},
     "output_type": "execute_result"
    }
   ],
   "source": [
    "#step\n",
    "state_noise = train_state_noise_vec[:, train_noise_step_ctr] * train_noise_strength\n",
    "state_noise\n",
    "#then apply noise to the state\n",
    "#state = tuple(noise for noise in state_noise)\n",
    "state = tuple(state_noise)\n",
    "state"
   ]
  },
  {
   "cell_type": "code",
   "execution_count": null,
   "id": "3d4d9142-3206-4443-bad6-ca4879e7da68",
   "metadata": {},
   "outputs": [],
   "source": [
    "step_counter = 0\n",
    "train_noise_step_ctr = 0\n",
    "test_noise_step_ctr = 0"
   ]
  },
  {
   "cell_type": "code",
   "execution_count": 18,
   "id": "66c16280-5e0d-4a90-87a3-da324f4b11a9",
   "metadata": {},
   "outputs": [
    {
     "data": {
      "text/plain": [
       "False"
      ]
     },
     "execution_count": 18,
     "metadata": {},
     "output_type": "execute_result"
    }
   ],
   "source": [
    "0 == None"
   ]
  },
  {
   "cell_type": "code",
   "execution_count": 28,
   "id": "68abb02a-e2ad-4a91-9051-a1a67a63880a",
   "metadata": {},
   "outputs": [
    {
     "data": {
      "text/plain": [
       "cartpole.IMANSCartpoleEnv"
      ]
     },
     "execution_count": 28,
     "metadata": {},
     "output_type": "execute_result"
    }
   ],
   "source": [
    "from cartpole import IMANSCartpoleEnv\n",
    "env_IMANS = IMANSCartpoleEnv"
   ]
  },
  {
   "cell_type": "code",
   "execution_count": 23,
   "id": "71666fbe-d35e-41fa-83d6-6ee07e0ebce8",
   "metadata": {},
   "outputs": [],
   "source": [
    "from cartpole import TestModCartpoleEnv\n",
    "import gymnasium as gym"
   ]
  },
  {
   "cell_type": "code",
   "execution_count": 30,
   "id": "682ea195-6cd0-4795-bbdb-f964b71505f5",
   "metadata": {},
   "outputs": [
    {
     "data": {
      "text/plain": [
       "cartpole.TestModCartpoleEnv"
      ]
     },
     "execution_count": 30,
     "metadata": {},
     "output_type": "execute_result"
    }
   ],
   "source": [
    "#env = gym.make(\"TestModCartpoleEnv-v0\")\n",
    "env = TestModCartpoleEnv\n",
    "env"
   ]
  },
  {
   "cell_type": "code",
   "execution_count": null,
   "id": "a8a51399-27a0-4c58-be14-938787883f66",
   "metadata": {},
   "outputs": [],
   "source": []
  }
 ],
 "metadata": {
  "kernelspec": {
   "display_name": "Python 3 (ipykernel)",
   "language": "python",
   "name": "python3"
  },
  "language_info": {
   "codemirror_mode": {
    "name": "ipython",
    "version": 3
   },
   "file_extension": ".py",
   "mimetype": "text/x-python",
   "name": "python",
   "nbconvert_exporter": "python",
   "pygments_lexer": "ipython3",
   "version": "3.10.5"
  }
 },
 "nbformat": 4,
 "nbformat_minor": 5
}
